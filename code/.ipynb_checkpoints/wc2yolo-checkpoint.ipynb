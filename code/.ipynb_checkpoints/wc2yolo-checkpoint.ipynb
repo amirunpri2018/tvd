{
 "cells": [
  {
   "cell_type": "markdown",
   "metadata": {},
   "source": [
    "## Convert WebCamT labels to yolo\n",
    "\n",
    "The purpose of this notebook is to translate the original WebCamT dataset labels into yolo format.  There is a significant difference between the two; the original look like they are in pascal voc xml, containing many containers and tags.  Yolo format contains X & Y coordinates, along with height, width, and object type for each annotation on a single line.  The coordinates themselves are in a different format and will also be converted. "
   ]
  },
  {
   "cell_type": "code",
   "execution_count": null,
   "metadata": {},
   "outputs": [],
   "source": [
    "# TODO: Make this a script that will accept a directory and execute on all subdirectories with an argument"
   ]
  },
  {
   "cell_type": "code",
   "execution_count": 8,
   "metadata": {},
   "outputs": [],
   "source": [
    "import numpy as np\n",
    "import pandas as pd\n",
    "import xml.etree.ElementTree as ET\n",
    "import os\n",
    "import shutil"
   ]
  },
  {
   "cell_type": "code",
   "execution_count": 51,
   "metadata": {},
   "outputs": [],
   "source": [
    "working_directory = '~/DSI/projects/tvd/data/wcbatch4/labels/train/398-20160704-15'"
   ]
  },
  {
   "cell_type": "markdown",
   "metadata": {},
   "source": [
    "### Breaking down XML into lists of vehicle tags"
   ]
  },
  {
   "cell_type": "code",
   "execution_count": 52,
   "metadata": {},
   "outputs": [],
   "source": [
    "def extract_from_webcamt(file):\n",
    "\n",
    "    # Create XML tree\n",
    "    tree = ET.parse(file)\n",
    "    root = tree.getroot()\n",
    "\n",
    "    # extract vehicle tags\n",
    "    vehs = root.findall('vehicle')\n",
    "    xmax_list = [int(veh[1][0].text) for veh in vehs]\n",
    "    xmin_list = [int(veh[1][1].text) for veh in vehs]\n",
    "    ymax_list = [int(veh[1][2].text) for veh in vehs]\n",
    "    ymin_list = [int(veh[1][3].text) for veh in vehs]\n",
    "\n",
    "    # convert coordinates from bounding box to midpoint & size\n",
    "    xmid_list = (np.array(xmax_list)+np.array(xmin_list)) / 704 # midpoint / 352 for ratio distance\n",
    "    ymid_list = (np.array(ymax_list)+np.array(ymin_list)) / 480 # midpoint / 240 for ratio distance\n",
    "    xsize_list = (np.array(xmax_list) - np.array(xmin_list)) / 352\n",
    "    ysize_list = (np.array(ymax_list) - np.array(ymin_list)) / 240\n",
    "\n",
    "    # create an array containing new coords\n",
    "    out = np.empty((0,5))\n",
    "    for i in range(len(vehs)):\n",
    "        each_mark = np.array([[int(0), xmid_list[i], ymid_list[i], xsize_list[i], ysize_list[i]]])\n",
    "        #print(each_mark)\n",
    "        out = np.concatenate((out, each_mark), axis=0)\n",
    "    return(out)"
   ]
  },
  {
   "cell_type": "code",
   "execution_count": 53,
   "metadata": {},
   "outputs": [],
   "source": [
    "# To reference home dir / from deitrich epp\n",
    "def cd(path):\n",
    "    os.chdir(os.path.expanduser(path))"
   ]
  },
  {
   "cell_type": "markdown",
   "metadata": {},
   "source": [
    "### Navigating a directory"
   ]
  },
  {
   "cell_type": "code",
   "execution_count": 54,
   "metadata": {},
   "outputs": [],
   "source": [
    "cd(working_directory)"
   ]
  },
  {
   "cell_type": "code",
   "execution_count": 55,
   "metadata": {},
   "outputs": [
    {
     "name": "stdout",
     "output_type": "stream",
     "text": [
      "making directory ./xml_backup\n",
      "done\n"
     ]
    }
   ],
   "source": [
    "if 'xml_backup' not in os.listdir():\n",
    "    os.mkdir('xml_backup')\n",
    "print('making directory ./xml_backup')\n",
    "for item in os.listdir():\n",
    "\n",
    "    # test if called on an xml file first\n",
    "    if item[-4::]=='.xml':\n",
    "        \n",
    "        # use function created above to extract annotations\n",
    "        try:\n",
    "            annotations = extract_from_webcamt(item)\n",
    "        except:\n",
    "            print(f'error extracting {item}')\n",
    "        \n",
    "        # moving old annots to backup dir\n",
    "        shutil.move(item, './xml_backup/'+item)\n",
    "        \n",
    "        #write annotations to new file given same name as the original xml\n",
    "        filename = item[:-4]+'.txt'\n",
    "        annotfile = open(filename, 'w+')\n",
    "        for i in range(len(annotations)):\n",
    "            annotfile.write(str(annotations[i])[1:-1]+'\\n')\n",
    "        annotfile.close()\n",
    "        #print (filename)\n",
    "print('done')"
   ]
  },
  {
   "cell_type": "code",
   "execution_count": null,
   "metadata": {},
   "outputs": [],
   "source": []
  }
 ],
 "metadata": {
  "kernelspec": {
   "display_name": "Python 3",
   "language": "python",
   "name": "python3"
  },
  "language_info": {
   "codemirror_mode": {
    "name": "ipython",
    "version": 3
   },
   "file_extension": ".py",
   "mimetype": "text/x-python",
   "name": "python",
   "nbconvert_exporter": "python",
   "pygments_lexer": "ipython3",
   "version": "3.8.3"
  }
 },
 "nbformat": 4,
 "nbformat_minor": 4
}
