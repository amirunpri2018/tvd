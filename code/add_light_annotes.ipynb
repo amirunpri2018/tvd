{
 "cells": [
  {
   "cell_type": "markdown",
   "metadata": {},
   "source": [
    "## Add light annotations\n",
    "\n",
    "This notebook will combine vehicle annotations with pedestrian don't walk signals.  Change the 'working_dir' variable to the root of the batch to train.  Ensure existing files are stored in 'labels/train' and 'labels/val' and new annotations should be stored in 'lights/'"
   ]
  },
  {
   "cell_type": "code",
   "execution_count": 1,
   "metadata": {},
   "outputs": [],
   "source": [
    "# TODO: Same as XML script- Make this a script that will accept a directory and execute on all subdirectories with an argument"
   ]
  },
  {
   "cell_type": "code",
   "execution_count": 2,
   "metadata": {},
   "outputs": [],
   "source": [
    "import os"
   ]
  },
  {
   "cell_type": "code",
   "execution_count": 3,
   "metadata": {},
   "outputs": [],
   "source": [
    "# To reference home dir / from deitrich epp\n",
    "def cd(path):\n",
    "    os.chdir(os.path.expanduser(path))"
   ]
  },
  {
   "cell_type": "markdown",
   "metadata": {},
   "source": [
    "### Combine Files"
   ]
  },
  {
   "cell_type": "code",
   "execution_count": 4,
   "metadata": {},
   "outputs": [],
   "source": [
    "# This is the variable to change when combining a new batch\n",
    "working_dir = '~/DSI/projects/tvd/data/wcbatch4/'"
   ]
  },
  {
   "cell_type": "code",
   "execution_count": 19,
   "metadata": {},
   "outputs": [],
   "source": [
    "train_dir = 'labels/train/398-20160506-15/' # for example: '~/DSI/projects/tvd/wcbatch3/labels/train/'\n",
    "val_dir = 'labels/val/' # ex: '~/DSI/projects/tvd/wcbatch3/labels/val'"
   ]
  },
  {
   "cell_type": "code",
   "execution_count": 20,
   "metadata": {},
   "outputs": [],
   "source": [
    "light_dir = 'labels/train/506lights/' # ex: '~/DSI/projects/tvd/wcbatch3/lights/'"
   ]
  },
  {
   "cell_type": "code",
   "execution_count": 21,
   "metadata": {},
   "outputs": [],
   "source": [
    "cd(working_dir)"
   ]
  },
  {
   "cell_type": "code",
   "execution_count": 22,
   "metadata": {},
   "outputs": [
    {
     "name": "stdout",
     "output_type": "stream",
     "text": [
      "Can not open xml_backup\n"
     ]
    }
   ],
   "source": [
    "# this will create annotations for your /train directory\n",
    "# DO NOT RUN THIS MORE THAN ONCE IT WILL DOUBLE ANNOTATIONS (Todo: change that)\n",
    "cd(working_dir)\n",
    "for item in os.listdir(train_dir):\n",
    "    \n",
    "    # Go through each annotation file that exists and add corresponding data\n",
    "    try:\n",
    "        with open(train_dir+item, 'a') as annotation_file:\n",
    "            try:\n",
    "                with open(light_dir+item, 'r') as light_file:\n",
    "                    light_anot = light_file.read()\n",
    "                if light_anot:\n",
    "                    if light_anot[0]=='0':\n",
    "                        light_anot = light_anot.replace('0', '1', 1)\n",
    "                annotation_file.writelines(light_anot)\n",
    "            except: \n",
    "                print(f'No light file for {item}')\n",
    "    except:\n",
    "        print(f'Can not open {item}')\n",
    "            "
   ]
  },
  {
   "cell_type": "code",
   "execution_count": 81,
   "metadata": {},
   "outputs": [],
   "source": [
    "# This will create annotations for your /val directory\n",
    "# DO NOT RUN THIS MORE THAN ONCE IT WILL DOUBLE ANNOTATIONS\n",
    "cd(working_dir)\n",
    "for item in os.listdir(val_dir):\n",
    "    \n",
    "    # Go through each annotation file that exists and add corresponding data\n",
    "    with open(val_dir+item, 'a') as annotation_file:\n",
    "        try:\n",
    "            with open(light_dir+item, 'r') as light_file:\n",
    "                light_anot = light_file.read()\n",
    "            if light_anot:\n",
    "                if light_anot[0]=='0':\n",
    "                    light_anot = light_anot.replace('0', '1', 1)\n",
    "            annotation_file.writelines(light_anot)\n",
    "        except: \n",
    "            print(f'No light file for {item}')\n",
    "            "
   ]
  }
 ],
 "metadata": {
  "kernelspec": {
   "display_name": "Python 3",
   "language": "python",
   "name": "python3"
  },
  "language_info": {
   "codemirror_mode": {
    "name": "ipython",
    "version": 3
   },
   "file_extension": ".py",
   "mimetype": "text/x-python",
   "name": "python",
   "nbconvert_exporter": "python",
   "pygments_lexer": "ipython3",
   "version": "3.8.3"
  }
 },
 "nbformat": 4,
 "nbformat_minor": 4
}